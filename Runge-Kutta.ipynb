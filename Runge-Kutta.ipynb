{
 "cells": [
  {
   "cell_type": "code",
   "execution_count": 100,
   "metadata": {},
   "outputs": [],
   "source": [
    "import numpy as np\n",
    "import pandas as pd\n",
    "\n",
    "class R_K_Approx():\n",
    "    tol = 0.0001\n",
    "    def __init__(self,h=1):\n",
    "        self.h = float(h)\n",
    "        self.Yn = pd.DataFrame(columns=[\"X\",\"Y\"])\n",
    "        self.Yn = self.Yn.set_index(\"X\")\n",
    "    \n",
    "    def f(self,X,Y):\n",
    "        return 3*(X**2)*Y\n",
    "    \n",
    "    def approximate(self,X0,Y0,Xn):\n",
    "        X0 = float(X0)\n",
    "        Y0 = float(Y0)\n",
    "        self.Yn.loc[X0] = Y0\n",
    "        if X0>Xn:\n",
    "            if self.h>0:\n",
    "                self.h = self.h*-1\n",
    "        elif X0<Xn:\n",
    "            if self.h<0:\n",
    "                self.h = self.h*-1\n",
    "        \n",
    "        while (Xn-X0+self.h)*self.h/np.absolute(self.h) > self.tol:\n",
    "            self.Yn.loc[X0+self.h] = self.Y(X0,self.Yn.loc[X0,\"Y\"])\n",
    "            X0 += self.h\n",
    "            \n",
    "        if (Xn-X0+self.h)*self.h/np.absolute(self.h) < self.tol:\n",
    "            self.Yn.loc[Xn] = self.Y(X0,self.Yn.loc[X0,\"Y\"])\n",
    "            \n",
    "        return self.Yn\n",
    "    \n",
    "    def T4(self,X,Y):\n",
    "        return 1/6*(self.k1(X,Y)+2*self.k2(X,Y)+2*self.k3(X,Y)+self.k4(X,Y))\n",
    "    def k1(self,X,Y):\n",
    "        return self.f(X,Y)\n",
    "    def k2(self,X,Y):\n",
    "        return self.f(X+self.h/2,Y+self.h/2*self.k1(X,Y))\n",
    "    def k3(self,X,Y):\n",
    "        return self.f(X+self.h/2,Y+self.h/2*self.k2(X,Y))\n",
    "    def k4(self,X,Y):\n",
    "        return self.f(X+self.h,Y+self.h*self.k3(X,Y))\n",
    "    def Y(self,X,Y):\n",
    "        return Y + self.h*self.T4(X,Y)\n",
    "        #self.Yn.loc[X] = Y + self.h*self.T4(X,Y)\n",
    "model = R_K_Approx(h=0.1)\n",
    "table = model.approximate(X0=1,Y0=2,Xn=5)"
   ]
  }
 ],
 "metadata": {
  "kernelspec": {
   "display_name": "Python 3",
   "language": "python",
   "name": "python3"
  },
  "language_info": {
   "codemirror_mode": {
    "name": "ipython",
    "version": 3
   },
   "file_extension": ".py",
   "mimetype": "text/x-python",
   "name": "python",
   "nbconvert_exporter": "python",
   "pygments_lexer": "ipython3",
   "version": "3.7.3"
  }
 },
 "nbformat": 4,
 "nbformat_minor": 2
}
